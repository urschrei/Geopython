{
 "cells": [
  {
   "cell_type": "code",
   "execution_count": null,
   "id": "5c75b97b",
   "metadata": {
    "collapsed": false,
    "jupyter": {
     "outputs_hidden": false
    }
   },
   "outputs": [],
   "source": [
    "import requests\n",
    "import numpy as np\n",
    "import pandas as pd\n",
    "from mpl_toolkits.basemap import Basemap\n",
    "import matplotlib.cm as cm\n",
    "import matplotlib as mpl\n",
    "import matplotlib.pyplot as plt\n",
    "from matplotlib.collections import PatchCollection\n",
    "from matplotlib.cm import ScalarMappable\n",
    "from matplotlib.colors import Normalize, LinearSegmentedColormap\n",
    "import matplotlib.colors as colors\n",
    "from matplotlib.mlab import griddata\n",
    "from mpl_toolkits.axes_grid1.inset_locator import inset_axes\n",
    "from scipy.interpolate import griddata as gd\n",
    "from shapely.geometry import mapping, Point, Polygon, LineString, MultiPolygon, MultiPoint, box\n",
    "from shapely.ops import unary_union\n",
    "from descartes import PolygonPatch\n",
    "import math\n",
    "import fiona\n",
    "from itertools import chain, permutations, combinations\n",
    "import json\n",
    "import networkx as nx\n",
    "from lxml import etree\n",
    "%matplotlib inline\n",
    "mpl.rcParams['figure.figsize'] = (16, 12)\n",
    "mpl.rcParams['savefig.dpi'] = 200\n",
    "mpl.rcParams['axes.grid'] = False   # display grid or not"
   ]
  },
  {
   "cell_type": "code",
   "execution_count": null,
   "id": "50d342da",
   "metadata": {
    "collapsed": false,
    "jupyter": {
     "outputs_hidden": false
    }
   },
   "outputs": [],
   "source": [
    "from matplotlib import rc\n",
    "rc('font', **{'family':'sans-serif',\n",
    "    'sans-serif':['Helvetica'],\n",
    "    'monospace': ['Inconsolata'],\n",
    "    'serif': ['Helvetica']})\n",
    "rc('text', **{'usetex': True})\n",
    "rc('text', **{'latex.preamble': '\\usepackage{sfmath}'})"
   ]
  },
  {
   "cell_type": "code",
   "execution_count": null,
   "id": "79d3b6ee",
   "metadata": {
    "collapsed": false,
    "jupyter": {
     "outputs_hidden": false
    }
   },
   "outputs": [],
   "source": [
    "shp = fiona.open('data/london_wards.shp')\n",
    "crs_data = shp.crs\n",
    "bds = shp.bounds\n",
    "shp.close()\n",
    "extra = 0.01\n",
    "ll = (bds[0], bds[1])\n",
    "ur = (bds[2], bds[3])\n",
    "coords = list(chain(ll, ur))\n",
    "w, h = coords[2] - coords[0], coords[3] - coords[1]"
   ]
  },
  {
   "cell_type": "code",
   "execution_count": null,
   "id": "008758fc",
   "metadata": {
    "collapsed": false,
    "jupyter": {
     "outputs_hidden": false
    }
   },
   "outputs": [],
   "source": [
    "m = Basemap(\n",
    "    projection='tmerc',\n",
    "    lon_0 = -2.,\n",
    "    lat_0 = 49.,\n",
    "    ellps = 'WGS84',\n",
    "    llcrnrlon=coords[0] - extra * w,\n",
    "    llcrnrlat=coords[1] - extra + 0.01 * h,\n",
    "    urcrnrlon=coords[2] + extra * w,\n",
    "    urcrnrlat=coords[3] + extra + 0.01 * h,\n",
    "    lat_ts=0,\n",
    "    resolution='i',\n",
    "    suppress_ticks=True)\n",
    "m.readshapefile(\n",
    "    'data/london_wards',\n",
    "    'london',\n",
    "    color='none',\n",
    "    zorder=2)"
   ]
  },
  {
   "cell_type": "code",
   "execution_count": null,
   "id": "8104c61d",
   "metadata": {
    "collapsed": false,
    "jupyter": {
     "outputs_hidden": false
    }
   },
   "outputs": [],
   "source": [
    "# cascade ward polygons together\n",
    "london_poly = unary_union([Polygon(xy) for xy in m.london])"
   ]
  },
  {
   "cell_type": "code",
   "execution_count": null,
   "id": "b7837ab7",
   "metadata": {
    "collapsed": false,
    "jupyter": {
     "outputs_hidden": false
    }
   },
   "outputs": [],
   "source": [
    "def query_travel_time(start, end, method):\n",
    "    \"\"\"\n",
    "    Get a travel time back from MapZen's OSRM\n",
    "    start, end: lon, lat tuples\n",
    "    method: foot, car, bicycle\n",
    "    returns travel time, in seconds\n",
    "    TODO: bounds checking for coords\n",
    "    \"\"\"\n",
    "    allowed = ('foot', 'car', 'bicycle')\n",
    "    if method not in allowed:\n",
    "        raise Exception(\n",
    "            \"Unknown method. Must be one of %s. Christ.\" % ', '.join(allowed))\n",
    "    endpoint = 'http://osrm.mapzen.com'\n",
    "    method = '/{m}/viaroute'.format(m=method)\n",
    "    # should be properly encoding second loc, but dict keys are unique!\n",
    "    # reverse lon, lat because ugh    \n",
    "    params = {'loc': '{1},{0}&loc={3},{2}'.format(*chain(start, end))}\n",
    "    req = requests.get(endpoint + method, params=params)\n",
    "    try:\n",
    "        req.raise_for_status()\n",
    "    except requests.exceptions.HTTPError:\n",
    "        return np.nan\n",
    "    if req.json()['status'] == 207:\n",
    "        return np.nan\n",
    "    return req.json()['route_summary']['total_time']"
   ]
  },
  {
   "cell_type": "code",
   "execution_count": null,
   "id": "dafe5c68",
   "metadata": {
    "collapsed": false,
    "jupyter": {
     "outputs_hidden": false
    }
   },
   "outputs": [],
   "source": [
    "def project_linestring(ls, inverse=False):\n",
    "    \"\"\" return a linestring projected into map coordinates \"\"\"\n",
    "    if not pd.isnull(ls):\n",
    "        return LineString(zip(*m(*zip(*ls.coords))))\n",
    "    else:\n",
    "        return np.nan"
   ]
  },
  {
   "cell_type": "code",
   "execution_count": null,
   "id": "9cf0929d",
   "metadata": {
    "collapsed": false,
    "jupyter": {
     "outputs_hidden": false
    }
   },
   "outputs": [],
   "source": [
    "# parse XML into dict\n",
    "tree = etree.parse(\"data/bike_stations.xml\")\n",
    "root = tree.getroot()\n",
    "\n",
    "output = dict()\n",
    "output['name'] = []\n",
    "output['lon'] = []\n",
    "output['lat'] = []\n",
    "\n",
    "for each in root.xpath('station'):\n",
    "    output['name'].append(each[1].text)\n",
    "    output['lon'].append(each[4].text)\n",
    "    output['lat'].append(each[3].text)\n",
    "\n",
    "stations = pd.DataFrame(output)\n",
    "stations[['lon', 'lat']] = stations[['lon', 'lat']].astype(float)"
   ]
  },
  {
   "cell_type": "code",
   "execution_count": null,
   "id": "0e4f25a2",
   "metadata": {
    "collapsed": false,
    "jupyter": {
     "outputs_hidden": false
    }
   },
   "outputs": [],
   "source": [
    "# work out station centroid and WGS84 lon / lat\n",
    "centroid = zip(*m(*zip(*MultiPoint(stations[['lon', 'lat']].values).convex_hull.centroid.coords)))[0]\n",
    "centroid"
   ]
  },
  {
   "cell_type": "code",
   "execution_count": null,
   "id": "dfd0916c",
   "metadata": {
    "collapsed": false,
    "jupyter": {
     "outputs_hidden": false
    }
   },
   "outputs": [],
   "source": [
    "# move it onto Westminster Bridge\n",
    "centroid = m(-0.12204, 51.50083)\n",
    "centroid, m(*centroid, inverse=True)"
   ]
  },
  {
   "cell_type": "code",
   "execution_count": null,
   "id": "4edb9055",
   "metadata": {
    "collapsed": false,
    "jupyter": {
     "outputs_hidden": false
    }
   },
   "outputs": [],
   "source": [
    "# project lon / lat coords\n",
    "stations['projected_lon'], stations['projected_lat'] = m(*(stations[\"lon\"].values, stations[\"lat\"].values))"
   ]
  },
  {
   "cell_type": "code",
   "execution_count": null,
   "id": "b483a1ca",
   "metadata": {
    "collapsed": false,
    "jupyter": {
     "outputs_hidden": false
    }
   },
   "outputs": [],
   "source": [
    "# calculate station distance from centroid\n",
    "stations['centroid_distance'] = stations.apply(lambda x:\n",
    "    math.sqrt(\n",
    "        ((abs(centroid[0] - x['projected_lon']) ** 2) + (abs(centroid[1] - x['projected_lat']) ** 2))\n",
    "    ), axis=1)"
   ]
  },
  {
   "cell_type": "markdown",
   "id": "1d85b2c5",
   "metadata": {},
   "source": [
    "You can skip the next cell and import travel times from CSV if you wish (don't divide travel by 60, though):  \n",
    "`stations = pd.read_csv('data/stations_travel_time.csv', index_col=0)`"
   ]
  },
  {
   "cell_type": "code",
   "execution_count": null,
   "id": "417a49f9",
   "metadata": {
    "collapsed": false,
    "jupyter": {
     "outputs_hidden": false
    }
   },
   "outputs": [],
   "source": [
    "def travel_time(df, start):\n",
    "    \"\"\" return travel times between a given centroid and all stations in the network \"\"\"\n",
    "    return query_travel_time(start, (df['lon'], df['lat']), 'bicycle')\n",
    "\n",
    "\n",
    "stations['travel_time'] = stations.apply(travel_time, args=(m(*centroid, inverse=True),), axis=1)"
   ]
  },
  {
   "cell_type": "code",
   "execution_count": null,
   "id": "958959df",
   "metadata": {
    "collapsed": false,
    "jupyter": {
     "outputs_hidden": false
    }
   },
   "outputs": [],
   "source": [
    "# travel time in minutes is more useful\n",
    "stations['travel_time'] /=  60.\n",
    "# replace travel time of < 1 with 1. minutes - not sure about this\n",
    "stations.loc[stations['travel_time'] <= 1., 'travel_time'] = 1.\n",
    "# save our original DataFrame - we're going to drop empty travel time stations\n",
    "stations_orig = pd.DataFrame(stations)\n",
    "stations = stations.dropna()"
   ]
  },
  {
   "cell_type": "code",
   "execution_count": null,
   "id": "fbff0469",
   "metadata": {
    "collapsed": false,
    "jupyter": {
     "outputs_hidden": false
    }
   },
   "outputs": [],
   "source": [
    "nodes = pd.read_csv('data/nodes_london.csv', header=None, names=['name', 'lat', 'lon'])\n",
    "nodes.head()"
   ]
  },
  {
   "cell_type": "code",
   "execution_count": null,
   "id": "877514b4",
   "metadata": {
    "collapsed": false,
    "jupyter": {
     "outputs_hidden": false
    }
   },
   "outputs": [],
   "source": [
    "nodes['coords'] = zip(nodes['lon'], nodes['lat'])\n",
    "nodes = nodes.set_index('name')\n",
    "nodes.head()"
   ]
  },
  {
   "cell_type": "code",
   "execution_count": null,
   "id": "27ba86c8",
   "metadata": {
    "collapsed": false,
    "jupyter": {
     "outputs_hidden": false
    }
   },
   "outputs": [],
   "source": [
    "nodes = nodes[:20]\n",
    "nodes"
   ]
  },
  {
   "cell_type": "code",
   "execution_count": null,
   "id": "2c029163",
   "metadata": {
    "collapsed": false,
    "jupyter": {
     "outputs_hidden": false
    }
   },
   "outputs": [],
   "source": [
    "traveltime_square = pd.DataFrame(\n",
    "    np.zeros(len(nodes) ** 2).reshape(len(nodes), len(nodes)),\n",
    "    index=nodes.index, columns=nodes.index)\n",
    "traveltime_square.head()"
   ]
  },
  {
   "cell_type": "code",
   "execution_count": null,
   "id": "5b865d66",
   "metadata": {
    "collapsed": false,
    "jupyter": {
     "outputs_hidden": false
    }
   },
   "outputs": [],
   "source": [
    "def get_travel_time(col):\n",
    "    \"\"\"\n",
    "    retrieve coords from nodes df\n",
    "    pass to query_routing_machine()\n",
    "    \"\"\"\n",
    "    end = nodes.ix[col.name]['coords']\n",
    "    ns = nodes['coords'].apply(query_travel_time, end=end, method='bicycle')\n",
    "    return ns"
   ]
  },
  {
   "cell_type": "code",
   "execution_count": null,
   "id": "581cb7e3",
   "metadata": {
    "collapsed": false,
    "jupyter": {
     "outputs_hidden": false
    }
   },
   "outputs": [],
   "source": [
    "routes_travel_time = traveltime_square.apply(get_travel_time, axis=1).T"
   ]
  },
  {
   "cell_type": "code",
   "execution_count": null,
   "id": "0f013be3",
   "metadata": {
    "collapsed": false,
    "jupyter": {
     "outputs_hidden": false
    }
   },
   "outputs": [],
   "source": [
    "routes_travel_time.head()"
   ]
  },
  {
   "cell_type": "code",
   "execution_count": null,
   "id": "c3fad3b6",
   "metadata": {
    "collapsed": false,
    "jupyter": {
     "outputs_hidden": false
    }
   },
   "outputs": [],
   "source": [
    "def compute_travel_times(df, src):\n",
    "    \"\"\"\n",
    "    Return new DataFrame based on simple network analysis of origin and destination\n",
    "    We could calculate this outselves, but it's good to have NetworkX for future\n",
    "    work\n",
    "    \"\"\"\n",
    "    travel_time = nx.from_numpy_matrix(df.fillna(0).values)\n",
    "    travel_time = nx.relabel_nodes(travel_times, dict(enumerate(routes_travel_time.columns)))\n",
    "    ttimes = nx.single_source_dijkstra_path_length(\n",
    "        travel_time, source=src, cutoff=None, weight='weight')\n",
    "    df_ttimes = pd.DataFrame({'destination': ttimes.keys(), 'travel_time': ttimes.values()})\n",
    "    return df_ttimes.sort('destination')"
   ]
  },
  {
   "cell_type": "code",
   "execution_count": null,
   "id": "ac9e4ad6",
   "metadata": {
    "collapsed": false,
    "jupyter": {
     "outputs_hidden": false
    }
   },
   "outputs": [],
   "source": [
    "df_ttimes = compute_travel_times(routes_travel_time, 'Abbey Orchard Street')"
   ]
  },
  {
   "cell_type": "code",
   "execution_count": null,
   "id": "88fef37a",
   "metadata": {
    "collapsed": false,
    "jupyter": {
     "outputs_hidden": false
    }
   },
   "outputs": [],
   "source": [
    "df_ttimes"
   ]
  },
  {
   "cell_type": "code",
   "execution_count": null,
   "id": "4c0fd61c",
   "metadata": {
    "collapsed": false,
    "jupyter": {
     "outputs_hidden": false
    }
   },
   "outputs": [],
   "source": [
    "df_ttimes['projected_lon'], df_ttimes['projected_lat'] = m(*(nodes[\"lon\"].values, nodes[\"lat\"].values))\n",
    "df_ttimes"
   ]
  },
  {
   "cell_type": "code",
   "execution_count": null,
   "id": "fa6546dc",
   "metadata": {
    "collapsed": false,
    "jupyter": {
     "outputs_hidden": false
    }
   },
   "outputs": [],
   "source": [
    "# set up a square grid with the same extents as our measured data\n",
    "numcols, numrows = 1000, 1000\n",
    "xi = np.linspace(df_ttimes['projected_lon'].min(), df_ttimes['projected_lon'].max(), numcols)\n",
    "yi = np.linspace(df_ttimes['projected_lat'].min(), df_ttimes['projected_lat'].max(), numrows)\n",
    "# get lon and lat coords of our grid points\n",
    "xi, yi = np.meshgrid(xi, yi)\n",
    "# interpolate\n",
    "zi = gd(\n",
    "    (df_ttimes[['projected_lon', 'projected_lat']]),\n",
    "    df_ttimes['travel_time'].values,\n",
    "    (xi, yi),\n",
    "    method='linear')"
   ]
  },
  {
   "cell_type": "code",
   "execution_count": null,
   "id": "af3b64b0",
   "metadata": {
    "collapsed": false,
    "jupyter": {
     "outputs_hidden": false
    }
   },
   "outputs": [],
   "source": [
    "norm = Normalize()\n",
    "\n",
    "plt.clf()\n",
    "fig = plt.figure()\n",
    "ax = fig.add_subplot(111, axisbg='w', frame_on=False)\n",
    "\n",
    "m.drawparallels(\n",
    "    np.arange(ll[0], ur[0], 2.),\n",
    "    color = 'black', linewidth = 0.5,\n",
    "    labels=[True, False, False, False], ax=ax)\n",
    "m.drawmeridians(\n",
    "    np.arange(ll[1], ur[1], 2.),\n",
    "    color = 'black', linewidth = 0.5,\n",
    "    labels=[False, False, False, True], ax=ax)\n",
    "\n",
    "# plot London outline\n",
    "lp = PolygonPatch(\n",
    "    london_poly,\n",
    "    fc='#555555', ec='#787878', lw=.25, alpha=.5, zorder=3)\n",
    "ax.add_patch(lp)\n",
    "\n",
    "# contour plots\n",
    "# con = m.contour(xi, yi, zi, 15, zorder=4, linewidths=.25, linestyles='dashed', colors='k', alpha=0.6, ax=ax)\n",
    "conf = m.contourf(xi, yi, zi, 15, zorder=4, alpha=0.85, cmap='coolwarm', ax=ax)\n",
    "\n",
    "# scatter plot - vmin/max for colormap compat\n",
    "m.scatter(\n",
    "    df_ttimes['projected_lon'],\n",
    "    df_ttimes['projected_lat'],\n",
    "    color='#545454',\n",
    "    edgecolor='#ffffff',\n",
    "    alpha=.85,\n",
    "    s=30 * norm(df_ttimes['travel_time']),\n",
    "    cmap='RdBu',\n",
    "    ax=ax,\n",
    "    vmin=zi.min(), vmax=zi.max(), zorder=5)\n",
    "\n",
    "# add origin, assumed to be first row in df\n",
    "m.scatter(\n",
    "    df_ttimes.iloc[0]['projected_lon'],\n",
    "    df_ttimes.iloc[0]['projected_lat'],\n",
    "    s=20, edgecolor='#000000', alpha=1.,\n",
    "    color='w', zorder=5)\n",
    "\n",
    "# add colour bar, title, and scale\n",
    "cbar = plt.colorbar(conf, shrink=.5)\n",
    "cbar.set_label(\"Travel Time - Seconds\", size=8)\n",
    "\n",
    "# We need to reproduce the OS Data copyright licence\n",
    "smallprint = ax.text(\n",
    "    1.03, 0,\n",
    "    'Contains Ordnance Survey data\\n$\\copyright$ Crown copyright and database right 2014\\n\\nDarker routes are longer',\n",
    "    ha='right', va='bottom',\n",
    "    size=6,\n",
    "    color='#555555',\n",
    "    transform=ax.transAxes,\n",
    ")\n",
    "\n",
    "plt.title(\n",
    "    \"%s-Point Grid Natural Neighbour Delaunay Interpolation\" % numcols, fontsize=10)\n",
    "m.drawmapscale(\n",
    "    coords[0] + 0.08, coords[1] + 0.015,\n",
    "    coords[0], coords[1],\n",
    "    10.,\n",
    "    barstyle='fancy', labelstyle='simple',\n",
    "    fillcolor1='w', fillcolor2='#555555',\n",
    "    fontcolor='#555555',\n",
    "    zorder=5)\n",
    "\n",
    "plt.tight_layout()\n",
    "# plt.savefig(\"data/isochrone.png\", format=\"png\", bbox_inches='tight', transparent=True, dpi=300)\n",
    "plt.show()"
   ]
  }
 ],
 "metadata": {
  "kernelspec": {
   "display_name": "Python 3 (ipykernel)",
   "language": "python",
   "name": "python3"
  },
  "language_info": {
   "codemirror_mode": {
    "name": "ipython",
    "version": 3
   },
   "file_extension": ".py",
   "mimetype": "text/x-python",
   "name": "python",
   "nbconvert_exporter": "python",
   "pygments_lexer": "ipython3",
   "version": "3.12.6"
  }
 },
 "nbformat": 4,
 "nbformat_minor": 5
}
