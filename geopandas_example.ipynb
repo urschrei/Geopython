{
 "cells": [
  {
   "cell_type": "code",
   "execution_count": 1,
   "metadata": {},
   "outputs": [
    {
     "name": "stderr",
     "output_type": "stream",
     "text": [
      "/Users/sth/dev/ocrtest/venv/lib/python3.6/site-packages/matplotlib/__init__.py:913: UserWarning: axes.color_cycle is deprecated and replaced with axes.prop_cycle; please use the latter.\n",
      "  warnings.warn(self.msg_depr % (key, alt_key))\n"
     ]
    }
   ],
   "source": [
    "import pandas as pd\n",
    "import geopandas as gp\n",
    "\n",
    "import pysal as ps\n",
    "import numpy as np\n",
    "\n",
    "import matplotlib.pyplot as plt\n",
    "%matplotlib inline"
   ]
  },
  {
   "cell_type": "code",
   "execution_count": null,
   "metadata": {
    "collapsed": true,
    "jupyter": {
     "outputs_hidden": true
    }
   },
   "outputs": [],
   "source": [
    "# read in a shapefile. 'geometry' column will contain Polygons\n",
    "df = gp.read_file(\"dir_containing_shapefile\")"
   ]
  },
  {
   "cell_type": "code",
   "execution_count": null,
   "metadata": {
    "collapsed": true,
    "jupyter": {
     "outputs_hidden": true
    }
   },
   "outputs": [],
   "source": [
    "# see first ten columns\n",
    "df.head()"
   ]
  },
  {
   "cell_type": "code",
   "execution_count": null,
   "metadata": {
    "collapsed": true,
    "jupyter": {
     "outputs_hidden": true
    }
   },
   "outputs": [],
   "source": [
    "# see column names\n",
    "df.columns"
   ]
  },
  {
   "cell_type": "code",
   "execution_count": null,
   "metadata": {
    "collapsed": true,
    "jupyter": {
     "outputs_hidden": true
    }
   },
   "outputs": [],
   "source": [
    "# specify shapefile CRS (WGS84)\n",
    "df.crs = {'init': u'epsg:4326'}\n",
    "\n",
    "# specify new crs as OSGB36\n",
    "df = df.to_crs({'init': 'epsg:27700'})"
   ]
  },
  {
   "cell_type": "code",
   "execution_count": null,
   "metadata": {
    "collapsed": true,
    "jupyter": {
     "outputs_hidden": true
    }
   },
   "outputs": [],
   "source": [
    "plt.clf()\n",
    "fig, ax = plt.subplots(\n",
    "    1,\n",
    "    figsize=(16., 12.),\n",
    "    dpi=100,\n",
    "    subplot_kw=dict(aspect='equal'),\n",
    ")\n",
    "\n",
    "# this will plot and save a 7-bin choropleth of the 'values' column\n",
    "# classifier is natural breaks, cmap is Viridis\n",
    "base = df.plot(\n",
    "    ax=ax,\n",
    "    alpha=1.,\n",
    "    column='values',\n",
    "    scheme=\"fisher_jenks\",\n",
    "    k=7,\n",
    "    cmap=\"viridis\",\n",
    "    linewidth=0.1,\n",
    "    edgecolor='black',\n",
    "    legend=True,\n",
    ")\n",
    "\n",
    "_ = ax.axis('off')\n",
    "\n",
    "plt.savefig(\n",
    "    \"output.svg\",\n",
    "    format=\"svg\",\n",
    "    bbox_inches='tight',\n",
    "    alpha=True,\n",
    "    transparent=True,\n",
    "    dpi=100\n",
    ")\n",
    "\n",
    "plt.show()"
   ]
  },
  {
   "cell_type": "code",
   "execution_count": null,
   "metadata": {
    "collapsed": true,
    "jupyter": {
     "outputs_hidden": true
    }
   },
   "outputs": [],
   "source": [
    "plt.clf()\n",
    "fig, ax = plt.subplots(\n",
    "    1,\n",
    "    figsize=(16., 12.),\n",
    "    dpi=100,\n",
    "    subplot_kw=dict(aspect='equal'),\n",
    ")\n",
    "\n",
    "# this will plot a 'counts' column which contains categorical values\n",
    "# choosing k=5 gives quintiles, k=10 gives deciles etc\n",
    "\n",
    "base = df.plot(\n",
    "    categorical=True,\n",
    "    ax=ax,\n",
    "    alpha=1.,\n",
    "    column='counts',\n",
    "    k=10,\n",
    "    cmap=\"viridis\",\n",
    "    linewidth=0.1,\n",
    "    edgecolor='black',\n",
    "    legend=True,\n",
    ")\n",
    "\n",
    "_ = ax.axis('off')\n",
    "\n",
    "plt.savefig(\n",
    "    \"output_categorical.svg\",\n",
    "    format=\"svg\",\n",
    "    bbox_inches='tight',\n",
    "    alpha=True,\n",
    "    transparent=True,\n",
    "    dpi=100\n",
    ")\n",
    "\n",
    "plt.show()"
   ]
  }
 ],
 "metadata": {
  "kernelspec": {
   "display_name": "Python 3 (ipykernel)",
   "language": "python",
   "name": "python3"
  },
  "language_info": {
   "codemirror_mode": {
    "name": "ipython",
    "version": 3
   },
   "file_extension": ".py",
   "mimetype": "text/x-python",
   "name": "python",
   "nbconvert_exporter": "python",
   "pygments_lexer": "ipython3",
   "version": "3.12.6"
  }
 },
 "nbformat": 4,
 "nbformat_minor": 4
}
