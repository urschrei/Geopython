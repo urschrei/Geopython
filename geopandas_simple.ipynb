{
 "cells": [
  {
   "cell_type": "code",
   "execution_count": null,
   "metadata": {
    "collapsed": true,
    "jupyter": {
     "outputs_hidden": true
    }
   },
   "outputs": [],
   "source": [
    "from shapely.geometry import Point, Polygon\n",
    "\n",
    "import pandas as pd\n",
    "import geopandas as gp\n",
    "\n",
    "import pysal as ps\n",
    "import numpy as np\n",
    "\n",
    "import matplotlib.pyplot as plt\n",
    "%matplotlib inline"
   ]
  },
  {
   "cell_type": "code",
   "execution_count": null,
   "metadata": {
    "collapsed": true,
    "jupyter": {
     "outputs_hidden": true
    }
   },
   "outputs": [],
   "source": [
    "# assume you have a list of Shapely polygons called 'shapes\n",
    "names = ['a', 'b', 'c']\n",
    "counts = [1, 3, 5]\n",
    "\n",
    "input_dict = {\n",
    "    \"names\": names,\n",
    "    \"counts\": counts,\n",
    "    \"geometry\": shapes\n",
    "}\n",
    "\n",
    "# create a GeoDataFrame from the dict above\n",
    "df = gp.GeoDataFrame(input_dict, geometry='geometry')\n",
    "\n",
    "# set the CRS of the input Polygons\n",
    "df.crs = {'init': u'epsg:4326'}\n",
    "\n",
    "\n",
    "# set up matplotlib to look OK\n",
    "plt.clf()\n",
    "fig, ax = plt.subplots(\n",
    "    1,\n",
    "    figsize=(16., 12.),\n",
    "    dpi=100,\n",
    "    subplot_kw=dict(aspect='equal'),\n",
    ")\n",
    "\n",
    "# this will plot a 3-bin choropleth of the 'counts' column\n",
    "# classifier is Fisher natural breaks, cmap is Viridis\n",
    "base = df.plot(\n",
    "    ax=ax,\n",
    "    alpha=1.,\n",
    "    column='counts',\n",
    "    scheme=\"fisher_jenks\",\n",
    "    k=3,\n",
    "    cmap=\"viridis\",\n",
    "    linewidth=0.1,\n",
    "    edgecolor='black',\n",
    "    legend=True,\n",
    ")\n",
    "\n",
    "\n",
    "# turn off the background\n",
    "_ = ax.axis('off')\n",
    "\n",
    "\n",
    "# save as 1600 x 1200px svg\n",
    "plt.savefig(\n",
    "    \"output.svg\",\n",
    "    format=\"svg\",\n",
    "    bbox_inches='tight',\n",
    "    alpha=True,\n",
    "    transparent=True,\n",
    "    dpi=100\n",
    ")\n",
    "\n",
    "plt.show()"
   ]
  }
 ],
 "metadata": {
  "kernelspec": {
   "display_name": "Python 3 (ipykernel)",
   "language": "python",
   "name": "python3"
  },
  "language_info": {
   "codemirror_mode": {
    "name": "ipython",
    "version": 3
   },
   "file_extension": ".py",
   "mimetype": "text/x-python",
   "name": "python",
   "nbconvert_exporter": "python",
   "pygments_lexer": "ipython3",
   "version": "3.12.6"
  }
 },
 "nbformat": 4,
 "nbformat_minor": 4
}
