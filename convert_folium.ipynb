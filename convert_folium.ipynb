{
 "cells": [
  {
   "cell_type": "code",
   "execution_count": 1,
   "id": "cc7f74f6",
   "metadata": {
    "collapsed": false,
    "jupyter": {
     "outputs_hidden": false
    }
   },
   "outputs": [],
   "source": [
    "%matplotlib inline"
   ]
  },
  {
   "cell_type": "code",
   "execution_count": 1,
   "id": "ee3739a6",
   "metadata": {
    "collapsed": false,
    "jupyter": {
     "outputs_hidden": false
    }
   },
   "outputs": [],
   "source": [
    "from IPython.display import HTML\n",
    "from lxml import etree\n",
    "import requests\n",
    "import pandas as pd\n",
    "import numpy as np\n",
    "import matplotlib.pyplot as plt\n",
    "import matplotlib.cm as cm\n",
    "from matplotlib.colors import Normalize, LinearSegmentedColormap\n",
    "from matplotlib.collections import PatchCollection\n",
    "import matplotlib.font_manager as fm\n",
    "from mpl_toolkits.basemap import Basemap\n",
    "from shapely.geometry import Point, Polygon, MultiPoint, MultiPolygon, shape, mapping\n",
    "from shapely.prepared import prep\n",
    "from pysal.esda.mapclassify import Natural_Breaks as nb\n",
    "from descartes import PolygonPatch\n",
    "import mpl_toolkits.basemap.pyproj as pyproj\n",
    "import fiona\n",
    "from itertools import chain"
   ]
  },
  {
   "cell_type": "code",
   "execution_count": 2,
   "id": "d55f693c",
   "metadata": {
    "collapsed": false,
    "jupyter": {
     "outputs_hidden": false
    }
   },
   "outputs": [],
   "source": [
    "# folium stuff\n",
    "import json\n",
    "import folium"
   ]
  },
  {
   "cell_type": "code",
   "execution_count": 3,
   "id": "547f27c9",
   "metadata": {
    "collapsed": false,
    "jupyter": {
     "outputs_hidden": false
    }
   },
   "outputs": [],
   "source": [
    "# ensure we have Helvetica available\n",
    "fm.findSystemFonts(fontpaths='/users/sth/fonts', fontext='ttf')\n",
    "prop = fm.FontProperties(fname='/users/sth/fonts/helvetica.ttf')"
   ]
  },
  {
   "cell_type": "markdown",
   "id": "c610dc93",
   "metadata": {},
   "source": [
    "# Parse an XML file into a dict"
   ]
  },
  {
   "cell_type": "code",
   "execution_count": 4,
   "id": "487ca97e",
   "metadata": {
    "collapsed": false,
    "jupyter": {
     "outputs_hidden": false
    }
   },
   "outputs": [],
   "source": [
    "# parse XML into dict\n",
    "tree = etree.parse(\"data/plaques_20140619.xml\")\n",
    "root = tree.getroot()\n",
    "\n",
    "output = dict()\n",
    "output['raw'] = []\n",
    "output['crs'] = []\n",
    "output['lon'] = []\n",
    "output['lat'] = []\n",
    "\n",
    "for each in root.xpath('/openplaques/plaque/geo'):\n",
    "    # check what we got back\n",
    "    output['crs'].append(each.get('reference_system', None))\n",
    "    output['lon'].append(each.get('longitude', None))\n",
    "    output['lat'].append(each.get('latitude', None))\n",
    "    # now go back up to plaque\n",
    "    r = each.getparent().xpath('inscription/raw')[0]\n",
    "    if isinstance(r.text, str):\n",
    "        output['raw'].append(r.text.lstrip().rstrip())\n",
    "    else:\n",
    "        output['raw'].append(None)"
   ]
  },
  {
   "cell_type": "markdown",
   "id": "39ac69f8",
   "metadata": {},
   "source": [
    "# Set up a DataFrame, and perform type conversion(s)"
   ]
  },
  {
   "cell_type": "code",
   "execution_count": 5,
   "id": "773b4974",
   "metadata": {
    "collapsed": false,
    "jupyter": {
     "outputs_hidden": false
    }
   },
   "outputs": [],
   "source": [
    "df = pd.DataFrame(output)\n",
    "df = df.replace({'raw': 0}, None)\n",
    "df = df.dropna()\n",
    "df[['lon', 'lat']] = df[['lon', 'lat']].astype(float)"
   ]
  },
  {
   "cell_type": "markdown",
   "id": "8676a8bf",
   "metadata": {},
   "source": [
    "# Get GeoJSON data, and create bounds, width and height"
   ]
  },
  {
   "cell_type": "code",
   "execution_count": 6,
   "id": "6e3f8781",
   "metadata": {
    "collapsed": false,
    "jupyter": {
     "outputs_hidden": false
    }
   },
   "outputs": [],
   "source": [
    "shp = fiona.open('data/wards.geojson')\n",
    "crs_data = shp.crs\n",
    "bds = shp.bounds\n",
    "shp.close()\n",
    "extra = 0.01\n",
    "ll = (bds[0], bds[1])\n",
    "ur = (bds[2], bds[3])\n",
    "coords = list(chain(ll, ur))\n",
    "w, h = coords[2] - coords[0], coords[3] - coords[1]"
   ]
  },
  {
   "cell_type": "markdown",
   "id": "31d129af",
   "metadata": {},
   "source": [
    "# Create a Basemap instance, and open the shapefile"
   ]
  },
  {
   "cell_type": "code",
   "execution_count": 7,
   "id": "8441447b",
   "metadata": {
    "collapsed": false,
    "jupyter": {
     "outputs_hidden": false
    }
   },
   "outputs": [
    {
     "data": {
      "text/plain": [
       "(649,\n",
       " 5,\n",
       " [-0.5103750689005356, 51.28676016315085, 0.0, 0.0],\n",
       " [0.3340155643740321, 51.691874116909894, 0.0, 0.0],\n",
       " <matplotlib.collections.LineCollection at 0x10dd58550>)"
      ]
     },
     "execution_count": 7,
     "metadata": {},
     "output_type": "execute_result"
    },
    {
     "data": {
      "image/png": "[encoded data removed]",
      "text/plain": [
       "<matplotlib.figure.Figure at 0x10e7e5810>"
      ]
     },
     "metadata": {},
     "output_type": "display_data"
    }
   ],
   "source": [
    "m = Basemap(\n",
    "    projection='tmerc',\n",
    "    lon_0 = -2.,\n",
    "    lat_0 = 49.,\n",
    "    ellps = 'WGS84',\n",
    "    llcrnrlon=coords[0] - extra * w,\n",
    "    llcrnrlat=coords[1] - extra + 0.01 * h,\n",
    "    urcrnrlon=coords[2] + extra * w,\n",
    "    urcrnrlat=coords[3] + extra + 0.01 * h,\n",
    "    lat_ts=0,\n",
    "    resolution='i',\n",
    "    suppress_ticks=True)\n",
    "m.readshapefile(\n",
    "    'data/london_wards',\n",
    "    'london',\n",
    "    color='none',\n",
    "    zorder=2)"
   ]
  },
  {
   "cell_type": "markdown",
   "id": "9f2c68b7",
   "metadata": {},
   "source": [
    "# Create a DataFrame holding ward polygons and area"
   ]
  },
  {
   "cell_type": "code",
   "execution_count": 8,
   "id": "70985d7f",
   "metadata": {
    "collapsed": false,
    "jupyter": {
     "outputs_hidden": false
    }
   },
   "outputs": [],
   "source": [
    "# set up a map dataframe\n",
    "df_map = pd.DataFrame({\n",
    "    'poly': [Polygon(xy) for xy in m.london],\n",
    "    'ward_name': [w['NAME'] for w in m.london_info],\n",
    "})\n",
    "df_map['area_m'] = df_map['poly'].map(lambda x: x.area)\n",
    "df_map['area_km'] = df_map['area_m'] / 100000\n",
    "\n",
    "# Create Point objects in map coordinates from dataframe lon and lat values\n",
    "map_points = pd.Series(\n",
    "    [Point(m(mapped_x, mapped_y)) for mapped_x, mapped_y in zip(df['lon'], df['lat'])])\n",
    "plaque_points = MultiPoint(list(map_points.values))\n",
    "wards_polygon = prep(MultiPolygon(list(df_map['poly'].values)))\n",
    "# calculate points that fall within the London boundary\n",
    "ldn_points = filter(wards_polygon.contains, plaque_points)"
   ]
  },
  {
   "cell_type": "markdown",
   "id": "e8a5e139",
   "metadata": {},
   "source": [
    "# Calculate plaque density data and bins"
   ]
  },
  {
   "cell_type": "code",
   "execution_count": 9,
   "id": "69bd5a52",
   "metadata": {
    "collapsed": false,
    "jupyter": {
     "outputs_hidden": false
    }
   },
   "outputs": [],
   "source": [
    "# create a MultiPoint which we can check for set membership\n",
    "df_map['count'] = df_map['poly'].map(lambda x: int(len(filter(prep(x).contains, ldn_points))))\n",
    "df_map['density_m'] = df_map['count'] / df_map['area_m']\n",
    "df_map['density_km'] = df_map['count'] / df_map['area_km']\n",
    "# it's easier to work with NaN values when classifying\n",
    "df_map.replace(to_replace={'density_m': {0: np.nan}, 'density_km': {0: np.nan}}, inplace=True)"
   ]
  },
  {
   "cell_type": "code",
   "execution_count": 10,
   "id": "e3423ada",
   "metadata": {
    "collapsed": false,
    "jupyter": {
     "outputs_hidden": false
    }
   },
   "outputs": [],
   "source": [
    "# Calculate Jenks natural breaks for density\n",
    "breaks = nb(\n",
    "    df_map[df_map['density_km'].notnull()].density_km.values,\n",
    "    initial=300,\n",
    "    k=6)\n",
    "# the notnull method lets us match indices when joining\n",
    "jb = pd.DataFrame({'jenks_bins': breaks.yb}, index=df_map[df_map['density_km'].notnull()].index)\n",
    "df_map = df_map.join(jb)\n",
    "df_map.jenks_bins.fillna(-1, inplace=True)"
   ]
  },
  {
   "cell_type": "markdown",
   "id": "f868498f",
   "metadata": {},
   "source": [
    "# Use the [Folium](https://github.com/wrobstory/folium) library to impose a choropleth map onto an in-browser map (OSM, MapBox, Stamen etc.)"
   ]
  },
  {
   "cell_type": "code",
   "execution_count": 17,
   "id": "ed8247bd",
   "metadata": {
    "collapsed": false,
    "jupyter": {
     "outputs_hidden": false
    }
   },
   "outputs": [],
   "source": [
    "# In order to use custom maps, pass any of the following as a tiles keyword:\n",
    "\"\"\"\n",
    "-\"OpenStreetMap\"\n",
    "-\"MapQuest Open\"\n",
    "-\"MapQuest Open Aerial\"\n",
    "-\"Mapbox Bright\" (Limited levels of zoom for free tiles)\n",
    "-\"Mapbox Control Room\" (Limited levels of zoom for free tiles)\n",
    "-\"Stamen Terrain\"\n",
    "-\"Stamen Toner\"\n",
    "-\"Cloudmade\" (Must pass API key)\n",
    "-\"Mapbox\" (Must pass API key)\n",
    "\"\"\"\n",
    "# we're binding the dataframe ward_name column to the GeoJSON feature.properties.NAME value\n",
    "# this will vary according to shapefile / GeoJSON\n",
    "# the data to be displayed as choropleth comes from the second 'columns' entry\n",
    "map_osm = folium.Map(\n",
    "    location=[51.5, 0.],\n",
    "    zoom_start=10,\n",
    "    )\n",
    "map_osm.geo_json(\n",
    "    geo_path='wards.geojson',\n",
    "    data=df_map,\n",
    "    columns=['ward_name', 'density_km'],\n",
    "    key_on='feature.properties.NAME',\n",
    "    threshold_scale = breaks.bins,\n",
    "    fill_color='BuPu', fill_opacity=0.75, line_opacity=0.2,\n",
    "    legend_name='Density (km2)')\n",
    "map_osm.create_map(path='ward_map.html')"
   ]
  },
  {
   "cell_type": "code",
   "execution_count": 18,
   "id": "81bed89e",
   "metadata": {
    "collapsed": false,
    "jupyter": {
     "outputs_hidden": false
    }
   },
   "outputs": [
    {
     "data": {
      "text/html": [
       "<iframe src=ward_map.html width=800 height=550></iframe>"
      ],
      "text/plain": [
       "<IPython.core.display.HTML at 0x10e7131d0>"
      ]
     },
     "execution_count": 18,
     "metadata": {},
     "output_type": "execute_result"
    }
   ],
   "source": [
    "HTML('<iframe src=ward_map.html width=800 height=550></iframe>')"
   ]
  },
  {
   "cell_type": "code",
   "execution_count": null,
   "id": "6539c42d",
   "metadata": {
    "collapsed": false,
    "jupyter": {
     "outputs_hidden": false
    }
   },
   "outputs": [],
   "source": []
  }
 ],
 "metadata": {
  "kernelspec": {
   "display_name": "Python 3 (ipykernel)",
   "language": "python",
   "name": "python3"
  },
  "language_info": {
   "codemirror_mode": {
    "name": "ipython",
    "version": 3
   },
   "file_extension": ".py",
   "mimetype": "text/x-python",
   "name": "python",
   "nbconvert_exporter": "python",
   "pygments_lexer": "ipython3",
   "version": "3.12.6"
  }
 },
 "nbformat": 4,
 "nbformat_minor": 5
}
